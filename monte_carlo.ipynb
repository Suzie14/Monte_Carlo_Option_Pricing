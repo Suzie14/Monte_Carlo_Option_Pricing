{
 "cells": [
  {
   "cell_type": "code",
   "execution_count": 45,
   "metadata": {},
   "outputs": [],
   "source": [
    "import numpy as np\n",
    "from scipy import stats\n",
    "import matplotlib.pyplot as plt\n"
   ]
  },
  {
   "cell_type": "code",
   "execution_count": 46,
   "metadata": {},
   "outputs": [],
   "source": [
    "def payoff_calc(S_ti, K):\n",
    "    \"\"\"\n",
    "    This function calculates future payoff of the asian option based on arithmetic average of the price path\n",
    "    \n",
    "    INPUT:\n",
    "        price_array (numpy.ndarray): A one-dimensional array of stock final prices\n",
    "        K (float): Exercise price of the option\n",
    "    \n",
    "    OUTPUT:\n",
    "        (numpy.ndarray): A one dimensional array of payoffs for different prices\n",
    "    \"\"\"\n",
    "    \n",
    "    payoff = np.maximum(0, np.mean(S_ti) - K)\n",
    "    return payoff"
   ]
  },
  {
   "cell_type": "code",
   "execution_count": 47,
   "metadata": {},
   "outputs": [],
   "source": [
    "def pv_calc(FV, r, T):\n",
    "    \"\"\"\n",
    "    Calculates present value of an amount of money in future.\n",
    "    \n",
    "    INPUT:\n",
    "        FV (float): Future value of money\n",
    "        r (float): Risk neutral interest rate\n",
    "        T (float): Period of time\n",
    "    \n",
    "    OUTPUT:\n",
    "        (float): Present value of FV\n",
    "    \"\"\"\n",
    "    \n",
    "    return FV * np.exp(-r * T)"
   ]
  },
  {
   "cell_type": "code",
   "execution_count": 48,
   "metadata": {},
   "outputs": [],
   "source": [
    "def ordinary_mc_sim(no_of_paths, n_steps, S_0, T, r, sigma, x_price):\n",
    "    \"\"\"\n",
    "    Conducts MC simulation,\n",
    "    \n",
    "    INPUT:\n",
    "        no_of_paths (int): Number of samples in simulation\n",
    "        n_steps (int): Number of price step we aim to simulate in each path\n",
    "        S_0 (float): Underlying asset price at time zero\n",
    "        T (float): Time period of option contract\n",
    "        r (float): Risk-netural interest rate\n",
    "        sigma (float): Volatility in the environment\n",
    "        x_price (float): Exercise price of the option\n",
    "        \n",
    "    OUTPUT:\n",
    "        (Numpy.ndarray): A one-dimensional array of present value of simulated payoffs\n",
    "    \"\"\"\n",
    "    dt = T / n_steps\n",
    "    present_payoffs = np.zeros(no_of_paths)\n",
    "    epsilon = np.random.normal(0, 1, (no_of_paths, n_steps))\n",
    "    \n",
    "    for k in range(no_of_paths):\n",
    "        price_steps = np.zeros(n_steps)\n",
    "        price_steps[0] = S_0\n",
    "        for i in range(1, n_steps):\n",
    "            price_steps[i] = price_steps[i-1] * np.exp((r - sigma ** 2 / 2) * dt + sigma * epsilon[k, i] * np.sqrt(dt))\n",
    "        present_payoffs[k] = pv_calc(payoff_calc(price_steps, x_price), r, T)\n",
    "    return(present_payoffs)"
   ]
  },
  {
   "cell_type": "code",
   "execution_count": 49,
   "metadata": {},
   "outputs": [],
   "source": [
    "def sim_iterator(max_sample, n_steps, S_0, T, r, sigma, x_price, *,method):\n",
    "    \"\"\"\n",
    "    Iterates simulation with different sample sizes (form 10 to a maximum size with steps of 10)\n",
    "    \n",
    "    INPUT:\n",
    "        max_sample (int): Maximum sample size for the iteration of simulations\n",
    "        n_steps (int): Number of price step we aim to simulate in each path\n",
    "        S_0 (float): Underlying asset price at time zero\n",
    "        T (float): Time period of option contract\n",
    "        r (float): Risk-netural interest rate\n",
    "        sigma (float): Volatility in the environment\n",
    "        x_price (float): Exercise price of the option\n",
    "        method (string): 'sobol', 'halton' or 'ordinary'\n",
    "    \n",
    "    OUTPUT:\n",
    "        (numpy.ndarray): confidence intervals of the simulations\n",
    "        (numpy.ndarray): price estimations of the simulations\n",
    "    \"\"\"\n",
    "    \n",
    "    mean_pv_payoffs = np.zeros(int(np.ceil(max_sample / 10)))\n",
    "\n",
    "    for n_sample in range(10, max_sample + 1, 10):\n",
    "        present_payoffs = ordinary_mc_sim(n_sample, n_steps, S_0, T, r, sigma, x_price)\n",
    "        mean_pv_payoffs[int(n_sample/10 - 1)] = np.mean(present_payoffs)\n",
    "\n",
    "    \n",
    "    return mean_pv_payoffs"
   ]
  },
  {
   "cell_type": "code",
   "execution_count": 50,
   "metadata": {},
   "outputs": [
    {
     "data": {
      "text/plain": [
       "array([11.82600633, 12.10386608])"
      ]
     },
     "execution_count": 50,
     "metadata": {},
     "output_type": "execute_result"
    }
   ],
   "source": [
    "r = 0.1\n",
    "sigma = 0.2\n",
    "T = 2\n",
    "n_steps = 20\n",
    "dt = T / n_steps\n",
    "S_0 = 50\n",
    "x_price = 40\n",
    "\n",
    "max_sample = 7000\n",
    "\n",
    "present_payoffs_1 = ordinary_mc_sim(1, n_steps, S_0, T, r, sigma, x_price)\n",
    "present_payoffs_1\n",
    "present_payoffs_2 = ordinary_mc_sim(2, n_steps, S_0, T, r, sigma, x_price)\n",
    "present_payoffs_2"
   ]
  },
  {
   "cell_type": "code",
   "execution_count": null,
   "metadata": {},
   "outputs": [],
   "source": []
  },
  {
   "cell_type": "code",
   "execution_count": null,
   "metadata": {},
   "outputs": [],
   "source": []
  },
  {
   "cell_type": "code",
   "execution_count": null,
   "metadata": {},
   "outputs": [],
   "source": []
  },
  {
   "cell_type": "code",
   "execution_count": null,
   "metadata": {},
   "outputs": [],
   "source": []
  }
 ],
 "metadata": {
  "kernelspec": {
   "display_name": "Python 3",
   "language": "python",
   "name": "python3"
  },
  "language_info": {
   "codemirror_mode": {
    "name": "ipython",
    "version": 3
   },
   "file_extension": ".py",
   "mimetype": "text/x-python",
   "name": "python",
   "nbconvert_exporter": "python",
   "pygments_lexer": "ipython3",
   "version": "3.10.6"
  },
  "orig_nbformat": 4
 },
 "nbformat": 4,
 "nbformat_minor": 2
}
